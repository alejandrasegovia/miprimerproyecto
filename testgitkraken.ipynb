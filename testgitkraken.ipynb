{
 "cells": [
  {
   "cell_type": "markdown",
   "metadata": {},
   "source": [
    "### PRESENTACIÓN"
   ]
  },
  {
   "cell_type": "markdown",
   "metadata": {},
   "source": [
    "- **NOMBRE:** Dulce Alejandra Segovia Nuñez\n",
    "- **PROFESIÓN:** Estudiante\n",
    "- **EDAD:** 19\n",
    "- **PASATIEMPO:** Escuchar música, leer y dibujar.\n",
    "- **EDUCACIÓN:** Instituto Tecnologico de Estudios Superiores de Occidente."
   ]
  },
  {
   "cell_type": "markdown",
   "metadata": {},
   "source": [
    "**Foto:**\n",
    "    \n",
    "<img src=\"https://instyle.mx/wp-content/uploads/2015/04/web-6.jpg\" width=\"300px\" height=\"100px\" />"
   ]
  },
  {
   "cell_type": "code",
   "execution_count": null,
   "metadata": {},
   "outputs": [],
   "source": [
    "<img src=\"https://images-na.ssl-images-amazon.com/images/I/818RUHLkzEL._SL1500_.jpg\" width=\"300px\" height=\"100px\" />"
   ]
  }
 ],
 "metadata": {
  "kernelspec": {
   "display_name": "Python 3",
   "language": "python",
   "name": "python3"
  },
  "language_info": {
   "codemirror_mode": {
    "name": "ipython",
    "version": 3
   },
   "file_extension": ".py",
   "mimetype": "text/x-python",
   "name": "python",
   "nbconvert_exporter": "python",
   "pygments_lexer": "ipython3",
   "version": "3.6.5"
  }
 },
 "nbformat": 4,
 "nbformat_minor": 2
}
